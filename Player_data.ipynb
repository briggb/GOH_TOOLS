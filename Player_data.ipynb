{
 "cells": [
  {
   "cell_type": "code",
   "execution_count": null,
   "id": "e957365a",
   "metadata": {},
   "outputs": [],
   "source": [
    "import requests\n",
    "import pandas as pd\n",
    "import matplotlib.pyplot as plt\n",
    "import numpy as np"
   ]
  },
  {
   "cell_type": "code",
   "execution_count": null,
   "id": "ca3ac7c8",
   "metadata": {},
   "outputs": [],
   "source": [
    "players = [367748527]"
   ]
  },
  {
   "cell_type": "code",
   "execution_count": null,
   "id": "9030e76a",
   "metadata": {},
   "outputs": [],
   "source": [
    "for p in players:\n",
    "    response = requests.get(\"http://api.swgoh.gg/player/%d/\"%(p))\n",
    "    \n",
    "    name = response.json()['data']['name']\n",
    "    gp = response.json()['data']['galactic_power']\n",
    "    skill_rating = response.json()['data']['skill_rating']\n",
    "    \n",
    "    print(name + \" \" + str(gp) + \" \" + str(skill_rating))\n"
   ]
  },
  {
   "cell_type": "code",
   "execution_count": null,
   "id": "47f9e8c2",
   "metadata": {},
   "outputs": [],
   "source": [
    "print(response.json().keys())"
   ]
  },
  {
   "cell_type": "code",
   "execution_count": null,
   "id": "a9f166c6",
   "metadata": {},
   "outputs": [],
   "source": [
    "print(response.json()['data'])"
   ]
  },
  {
   "cell_type": "code",
   "execution_count": null,
   "id": "2de85a16",
   "metadata": {},
   "outputs": [],
   "source": []
  },
  {
   "cell_type": "code",
   "execution_count": null,
   "id": "0b357e85",
   "metadata": {},
   "outputs": [],
   "source": []
  },
  {
   "cell_type": "code",
   "execution_count": null,
   "id": "d9b04e83",
   "metadata": {},
   "outputs": [],
   "source": []
  },
  {
   "cell_type": "code",
   "execution_count": null,
   "id": "074b42f5",
   "metadata": {},
   "outputs": [],
   "source": []
  }
 ],
 "metadata": {
  "kernelspec": {
   "display_name": "Python 3",
   "language": "python",
   "name": "python3"
  },
  "language_info": {
   "codemirror_mode": {
    "name": "ipython",
    "version": 3
   },
   "file_extension": ".py",
   "mimetype": "text/x-python",
   "name": "python",
   "nbconvert_exporter": "python",
   "pygments_lexer": "ipython3",
   "version": "3.8.8"
  }
 },
 "nbformat": 4,
 "nbformat_minor": 5
}
