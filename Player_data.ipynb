{
 "cells": [
  {
   "cell_type": "code",
   "execution_count": 1,
   "id": "76f5dd19",
   "metadata": {},
   "outputs": [],
   "source": [
    "import requests"
   ]
  },
  {
   "cell_type": "code",
   "execution_count": 2,
   "id": "bbace4b3",
   "metadata": {},
   "outputs": [],
   "source": [
    "players = [367748527]"
   ]
  },
  {
   "cell_type": "code",
   "execution_count": 13,
   "id": "5c67cb0e",
   "metadata": {},
   "outputs": [
    {
     "name": "stdout",
     "output_type": "stream",
     "text": [
      "brigg 3440546 2824\n"
     ]
    }
   ],
   "source": [
    "for p in players:\n",
    "    response = requests.get(\"http://api.swgoh.gg/player/%d/\"%(p))\n",
    "    \n",
    "    name = response.json()['data']['name']\n",
    "    gp = response.json()['data']['galactic_power']\n",
    "    skill_rating = response.json()['data']['skill_rating']\n",
    "    \n",
    "    print(name + \" \" + str(gp) + \" \" + str(skill_rating))\n"
   ]
  },
  {
   "cell_type": "code",
   "execution_count": 14,
   "id": "93f32e0f",
   "metadata": {},
   "outputs": [
    {
     "name": "stdout",
     "output_type": "stream",
     "text": [
      "dict_keys(['units', 'mods', 'datacrons', 'data'])\n"
     ]
    }
   ],
   "source": [
    "print(response.json().keys())"
   ]
  },
  {
   "cell_type": "code",
   "execution_count": 16,
   "id": "08b0fa0b",
   "metadata": {},
   "outputs": [
    {
     "name": "stdout",
     "output_type": "stream",
     "text": [
      "{'ally_code': 367748527, 'arena_leader_base_id': 'VEERS', 'arena_rank': 174, 'level': 85, 'name': 'brigg', 'last_updated': '2022-09-20T20:06:41', 'galactic_power': 3440546, 'character_galactic_power': 1875885, 'ship_galactic_power': 1564661, 'ship_battles_won': 1044, 'pvp_battles_won': 1058, 'pve_battles_won': 78822, 'pve_hard_won': 29852, 'galactic_war_won': 5770, 'guild_raid_won': 362, 'guild_contribution': 653422, 'guild_exchange_donations': 155, 'season_full_clears': 66, 'season_successful_defends': 221, 'season_league_score': 55155, 'season_undersized_squad_wins': 290, 'season_promotions_earned': 8, 'season_banners_earned': 108309, 'season_offensive_battles_won': 661, 'season_territories_defeated': 337, 'url': '/p/367748527/', 'arena': {'rank': 174, 'leader': 'VEERS', 'members': ['VEERS', 'RANGETROOPER', 'DARKTROOPER', 'MOFFGIDEONS1', 'ADMIRALPIETT']}, 'fleet_arena': {'rank': 11, 'leader': 'CAPITALNEGOTIATOR', 'members': ['CAPITALNEGOTIATOR', 'JEDISTARFIGHTERANAKIN', 'UMBARANSTARFIGHTER', 'YWINGCLONEWARS'], 'reinforcements': ['JEDISTARFIGHTERAHSOKATANO', 'ARC170REX', 'BLADEOFDORIN', 'EBONHAWK']}, 'skill_rating': 2824, 'division_number': '2', 'league_name': 'Aurodium', 'league_frame_image': 'https://game-assets.swgoh.gg/tex.vanity_portrait_league_aurodium.png', 'league_blank_image': 'https://game-assets.swgoh.gg/tex.league_icon_aurodium_blank.png', 'league_image': 'https://game-assets.swgoh.gg/tex.league_icon_aurodium.png', 'division_image': 'https://game-assets.swgoh.gg/tex.league_icon_aurodium_2.png', 'portrait_image': 'https://game-assets.swgoh.gg/tex.vanity_rangetrooper.png', 'title': 'Kyber Contender', 'guild_id': 'nx8AXLUxSViaWhObc5N0iA', 'guild_name': 'TheRealSquirtleSquad', 'guild_url': '/g/nx8AXLUxSViaWhObc5N0iA/', 'mods': []}\n"
     ]
    }
   ],
   "source": [
    "print(response.json()['data'])"
   ]
  },
  {
   "cell_type": "code",
   "execution_count": null,
   "id": "694ce074",
   "metadata": {},
   "outputs": [],
   "source": []
  },
  {
   "cell_type": "code",
   "execution_count": null,
   "id": "8f0c0ae5",
   "metadata": {},
   "outputs": [],
   "source": []
  },
  {
   "cell_type": "code",
   "execution_count": null,
   "id": "9b81eb77",
   "metadata": {},
   "outputs": [],
   "source": []
  },
  {
   "cell_type": "code",
   "execution_count": null,
   "id": "527645f4",
   "metadata": {},
   "outputs": [],
   "source": []
  }
 ],
 "metadata": {
  "kernelspec": {
   "display_name": "Python 3",
   "language": "python",
   "name": "python3"
  },
  "language_info": {
   "codemirror_mode": {
    "name": "ipython",
    "version": 3
   },
   "file_extension": ".py",
   "mimetype": "text/x-python",
   "name": "python",
   "nbconvert_exporter": "python",
   "pygments_lexer": "ipython3",
   "version": "3.8.8"
  }
 },
 "nbformat": 4,
 "nbformat_minor": 5
}
